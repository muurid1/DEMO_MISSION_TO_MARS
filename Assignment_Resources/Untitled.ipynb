{
 "cells": [
  {
   "cell_type": "code",
   "execution_count": 1,
   "id": "88623c0c-1111-4d8e-b87e-a357cfba0f5e",
   "metadata": {},
   "outputs": [
    {
     "name": "stderr",
     "output_type": "stream",
     "text": [
      "UsageError: %%javascript is a cell magic, but the cell body is empty.\n"
     ]
    }
   ],
   "source": [
    "%%javascript magic\n"
   ]
  },
  {
   "cell_type": "code",
   "execution_count": null,
   "id": "a8bf1667-1f41-44da-8328-40a1c52139d3",
   "metadata": {},
   "outputs": [],
   "source": []
  }
 ],
 "metadata": {
  "kernelspec": {
   "display_name": "PythonData",
   "language": "python",
   "name": "pythondata"
  },
  "language_info": {
   "codemirror_mode": {
    "name": "ipython",
    "version": 3
   },
   "file_extension": ".py",
   "mimetype": "text/x-python",
   "name": "python",
   "nbconvert_exporter": "python",
   "pygments_lexer": "ipython3",
   "version": "3.9.12"
  }
 },
 "nbformat": 4,
 "nbformat_minor": 5
}
